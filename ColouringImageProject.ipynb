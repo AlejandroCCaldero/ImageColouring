{
 "cells": [
  {
   "cell_type": "code",
   "execution_count": 11,
   "id": "33804e43",
   "metadata": {},
   "outputs": [],
   "source": [
    "from PIL import Image\n",
    "import numpy as np\n",
    "import torch\n",
    "from torchvision.transforms import transforms\n",
    "from torch.utils.data import DataLoader   "
   ]
  },
  {
   "cell_type": "code",
   "execution_count": 12,
   "id": "b6b86a5a",
   "metadata": {},
   "outputs": [],
   "source": [
    "# Define the execution device \n",
    "device = torch.device(\"cuda:0\" if torch.cuda.is_available() else \"cpu\")"
   ]
  },
  {
   "cell_type": "code",
   "execution_count": 13,
   "id": "5a06047f",
   "metadata": {},
   "outputs": [],
   "source": [
    "# Define a class to convert colored images into grayscale images\n",
    "\n",
    "class GrayScaleImage():\n",
    "    \n",
    "    def __init__(self, images):\n",
    "        self.images = images\n",
    "    \n",
    "    def dataset2gray(self):\n",
    "        return map(lambda img: img.convert('L'), self.images)"
   ]
  },
  {
   "cell_type": "code",
   "execution_count": 8,
   "id": "83b897bd",
   "metadata": {},
   "outputs": [],
   "source": [
    "# Test GrayScaleImage class\n",
    "\n",
    "img_dir = \"C:/Alejandro/Fotos/meme2.png\"\n",
    "img_rgb = Image.open(img_dir)\n",
    "#img_rgb.show()\n",
    "\n",
    "images = [img_rgb]\n",
    "test = GrayScaleImage(images)\n",
    "img_gray = test.dataset2gray()\n",
    "\n",
    "for i in img_gray:\n",
    "    i.show()"
   ]
  },
  {
   "cell_type": "code",
   "execution_count": 14,
   "id": "eee80ab5",
   "metadata": {},
   "outputs": [],
   "source": [
    "# Define normalization\n",
    "\n",
    "transform = transforms.Compose(\n",
    "    [transforms.ToTensor(),\n",
    "     transforms.Normalize((0.5, 0.5, 0.5), (0.5, 0.5, 0.5))])"
   ]
  },
  {
   "cell_type": "code",
   "execution_count": 42,
   "id": "3c45601e",
   "metadata": {},
   "outputs": [],
   "source": [
    "# Load the data\n",
    "\n",
    "# Use GrayScaleImage() to get the black-and-white images\n",
    "\n",
    "# Gather all the data\n",
    "\n",
    "# Normalize it\n",
    "    "
   ]
  },
  {
   "cell_type": "code",
   "execution_count": null,
   "id": "e32d0b1e",
   "metadata": {},
   "outputs": [],
   "source": [
    "class Discriminator(nn.Module):\n",
    "    def __init__(self, in_channels, filters, kernel_size, stride=1):\n",
    "        super().__init__()\n",
    "        \n",
    "        self.layer1 = nn.Conv2d(in_channels, out_channels=64, kernel_size, stride=2, padding=\"same\")\n",
    "        self.layer2 = nn.Conv2d(64, out_channels=128, kernel_size, stride=2, padding=\"same\")\n",
    "        self.layer3 = nn.Conv2d(128, out_channels=256, kernel_size, stride=2, padding=\"same\")\n",
    "        self.layer4 = nn.Conv2d(256, out_channels=512, kernel_size, padding=\"same\") # stride = 1\n",
    "        self.layer5 = nn.Conv2d(512, out_channels=1, kernel_size, padding=\"same\")\n",
    "    \n",
    "    def forward(self):\n",
    "        pass\n",
    "\n",
    "# model = Discriminator()\n",
    "# model.to(device)\n",
    "\n",
    "loss_fn = nn.BCELoss(weight=0.5)\n",
    "optimizer = Adam(model.parameters(), lr=0.0002, weight_decay=0.5)"
   ]
  }
 ],
 "metadata": {
  "kernelspec": {
   "display_name": "Python 3",
   "language": "python",
   "name": "python3"
  },
  "language_info": {
   "codemirror_mode": {
    "name": "ipython",
    "version": 3
   },
   "file_extension": ".py",
   "mimetype": "text/x-python",
   "name": "python",
   "nbconvert_exporter": "python",
   "pygments_lexer": "ipython3",
   "version": "3.8.8"
  }
 },
 "nbformat": 4,
 "nbformat_minor": 5
}
