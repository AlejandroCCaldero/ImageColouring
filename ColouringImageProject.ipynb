{
 "cells": [
  {
   "cell_type": "code",
   "execution_count": 4,
   "id": "33804e43",
   "metadata": {},
   "outputs": [],
   "source": [
    "from PIL import Image\n",
    "import numpy as np\n",
    "from torchvision.transforms import transforms\n",
    "from torch.utils.data import DataLoader        "
   ]
  },
  {
   "cell_type": "code",
   "execution_count": 2,
   "id": "5a06047f",
   "metadata": {},
   "outputs": [],
   "source": [
    "# Define a class to convert colored images into grayscale images\n",
    "\n",
    "class GrayScaleImage():\n",
    "    \n",
    "    def __init__(self, images):\n",
    "        self.images = images\n",
    "    \n",
    "    def dataset2gray(self):\n",
    "        return map(lambda img: img.convert('L'), self.images)"
   ]
  },
  {
   "cell_type": "code",
   "execution_count": 3,
   "id": "83b897bd",
   "metadata": {},
   "outputs": [],
   "source": [
    "# Test GrayScaleImage class\n",
    "\n",
    "img_dir = \"C:/Alejandro/Fotos/meme2.png\"\n",
    "img_rgb = Image.open(img_dir)\n",
    "#img_rgb.show()\n",
    "\n",
    "images = [img_rgb]\n",
    "test = GrayScaleImage(images)\n",
    "img_gray = test.dataset2gray()\n",
    "\n",
    "for i in img_gray:\n",
    "    i.show()"
   ]
  },
  {
   "cell_type": "code",
   "execution_count": 5,
   "id": "eee80ab5",
   "metadata": {},
   "outputs": [],
   "source": [
    "# Define normalization\n",
    "\n",
    "# data = [src_images (grayscale), target_images (colored)]\n",
    "def normalize_data(data):\n",
    "    # X1 src_images\n",
    "    # X2 target_images\n",
    "    X1, X2 = data[0], data[1]\n",
    "    \n",
    "    # The final layer uses the tanh activation function which gives an output from -1 to 1\n",
    "    # We map values in [0, 255] to [-1, 1]\n",
    "    X1 = (X1 - 127.5) / 127.5\n",
    "    X2 = (X1 - 127.5) / 127.5\n",
    "    \n",
    "    return [X1, X2]"
   ]
  },
  {
   "cell_type": "code",
   "execution_count": 42,
   "id": "3c45601e",
   "metadata": {},
   "outputs": [],
   "source": [
    "# Load the data\n",
    "\n",
    "# Use GrayScaleImage() to get the black-and-white images\n",
    "\n",
    "# Gather all the data\n",
    "\n",
    "# Normalize it\n",
    "    "
   ]
  },
  {
   "cell_type": "code",
   "execution_count": null,
   "id": "e32d0b1e",
   "metadata": {},
   "outputs": [],
   "source": []
  }
 ],
 "metadata": {
  "kernelspec": {
   "display_name": "Python 3",
   "language": "python",
   "name": "python3"
  },
  "language_info": {
   "codemirror_mode": {
    "name": "ipython",
    "version": 3
   },
   "file_extension": ".py",
   "mimetype": "text/x-python",
   "name": "python",
   "nbconvert_exporter": "python",
   "pygments_lexer": "ipython3",
   "version": "3.8.8"
  }
 },
 "nbformat": 4,
 "nbformat_minor": 5
}
