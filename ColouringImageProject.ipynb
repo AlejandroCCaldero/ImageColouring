{
 "cells": [
  {
   "cell_type": "code",
   "execution_count": 40,
   "id": "33804e43",
   "metadata": {},
   "outputs": [],
   "source": [
    "from PIL import Image\n",
    "\n",
    "class GrayScaleImage():\n",
    "    \n",
    "    def __init__(self, images):\n",
    "        self.images = images\n",
    "    \n",
    "    def dataset2gray(self):\n",
    "        return map(lambda img: img.convert('L'), self.images)\n",
    "        "
   ]
  },
  {
   "cell_type": "code",
   "execution_count": 41,
   "id": "83b897bd",
   "metadata": {},
   "outputs": [],
   "source": [
    "img_dir = \"C:/Alejandro/Fotos/meme2.png\"\n",
    "img_rgb = Image.open(img_dir)\n",
    "img_rgb.show()"
   ]
  },
  {
   "cell_type": "code",
   "execution_count": 42,
   "id": "3c45601e",
   "metadata": {},
   "outputs": [],
   "source": [
    "images = [img_rgb]\n",
    "test = GrayScaleImage(images)\n",
    "img_gray = test.dataset2gray()\n",
    "\n",
    "for i in img_gray:\n",
    "    i.show()"
   ]
  }
 ],
 "metadata": {
  "kernelspec": {
   "display_name": "Python 3",
   "language": "python",
   "name": "python3"
  },
  "language_info": {
   "codemirror_mode": {
    "name": "ipython",
    "version": 3
   },
   "file_extension": ".py",
   "mimetype": "text/x-python",
   "name": "python",
   "nbconvert_exporter": "python",
   "pygments_lexer": "ipython3",
   "version": "3.8.8"
  }
 },
 "nbformat": 4,
 "nbformat_minor": 5
}
