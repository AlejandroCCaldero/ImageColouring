{
 "cells": [
  {
   "cell_type": "markdown",
   "id": "685686a0",
   "metadata": {},
   "source": [
    "# Image Recoloring with conditional GANs\n",
    "\n",
    "Project developed by <b>Alejandro Cano Caldero</b> and <b>Jesús Moncada Ramírez</b> for the subject <i>Neural Networks and Deep Learning</i>, University of Padova 2022-2023."
   ]
  },
  {
   "cell_type": "code",
   "execution_count": 2,
   "id": "d65597dc",
   "metadata": {},
   "outputs": [],
   "source": [
    "# All our imports will be here\n",
    "from PIL import Image\n",
    "\n",
    "from torch.utils.data import Dataset, DataLoader\n",
    "import numpy as np"
   ]
  },
  {
   "cell_type": "markdown",
   "id": "83ccc8ca",
   "metadata": {},
   "source": [
    "## 1. Dataset\n",
    "\n",
    "In this section we will create a <i>Torch Dataset</i> class for all the images we are going to manage during this project. In a first version of this project we will use a subset of <i>ImageNet</i> called [Imagenette](https://github.com/fastai/imagenette.git) (the full size version)."
   ]
  },
  {
   "cell_type": "code",
   "execution_count": null,
   "id": "f10f7694",
   "metadata": {},
   "outputs": [],
   "source": [
    "# Jesús: I think we will have to use this structure\n",
    "class ImageDataset(Dataset):\n",
    "\n",
    "    def __init__(self, dataset_folder, dataset_type, transform=None):\n",
    "        self.x = \n",
    "        self.transform = transform\n",
    "    \n",
    "    def __len__(self):\n",
    "        return min(32000, len(self.x))\n",
    "        #return len(self.x)\n",
    "\n",
    "    def __getitem__(self, idx):\n",
    "        x = self.x[idx]\n",
    "        y = self.y[idx, 0, 0].astype(float)\n",
    "        if self.transform:\n",
    "            x = self.transform(x)\n",
    "        return x, y"
   ]
  },
  {
   "cell_type": "code",
   "execution_count": 3,
   "id": "33804e43",
   "metadata": {},
   "outputs": [],
   "source": [
    "class GrayScaleImage():\n",
    "    \n",
    "    def __init__(self, images):\n",
    "        self.images = images\n",
    "    \n",
    "    def dataset2gray(self):\n",
    "        return map(lambda img: img.convert('L'), self.images)\n",
    "        "
   ]
  },
  {
   "cell_type": "code",
   "execution_count": 7,
   "id": "83b897bd",
   "metadata": {},
   "outputs": [],
   "source": [
    "img_dir = \"C:/Alejandro/Images/meme2.jpg\"\n",
    "img_rgb = Image.open(img_dir)\n",
    "img_rgb.show()"
   ]
  },
  {
   "cell_type": "code",
   "execution_count": 8,
   "id": "3c45601e",
   "metadata": {},
   "outputs": [],
   "source": [
    "images = [img_rgb]\n",
    "test = GrayScaleImage(images)\n",
    "img_gray = test.dataset2gray()\n",
    "\n",
    "for i in img_gray:\n",
    "    i.show()"
   ]
  }
 ],
 "metadata": {
  "kernelspec": {
   "display_name": "Python 3",
   "language": "python",
   "name": "python3"
  },
  "language_info": {
   "codemirror_mode": {
    "name": "ipython",
    "version": 3
   },
   "file_extension": ".py",
   "mimetype": "text/x-python",
   "name": "python",
   "nbconvert_exporter": "python",
   "pygments_lexer": "ipython3",
   "version": "3.8.8"
  }
 },
 "nbformat": 4,
 "nbformat_minor": 5
}
